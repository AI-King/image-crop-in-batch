{
 "cells": [
  {
   "cell_type": "code",
   "execution_count": 26,
   "metadata": {},
   "outputs": [],
   "source": [
    "import pandas as pd"
   ]
  },
  {
   "cell_type": "code",
   "execution_count": 27,
   "metadata": {},
   "outputs": [],
   "source": [
    "df00 = pd.read_excel(r'D:\\Mukesh Files\\New folder\\july 2021.xlsx')\n",
    "df01 = pd.read_excel(r'D:\\Mukesh Files\\New folder\\01.xlsx')\n",
    "df02 = pd.read_excel(r'D:\\Mukesh Files\\New folder\\02.xlsx')\n",
    "df03 = pd.read_excel(r'D:\\Mukesh Files\\New folder\\03.xlsx')\n",
    "df04 = pd.read_excel(r'D:\\Mukesh Files\\New folder\\04.xlsx')\n",
    "df05 = pd.read_excel(r'D:\\Mukesh Files\\New folder\\05.xlsx')\n",
    "df1 = pd.read_excel(r'D:\\Mukesh Files\\New folder\\1.xlsx')\n",
    "df2 = pd.read_excel(r'D:\\Mukesh Files\\New folder\\2.xlsx')\n",
    "df3 = pd.read_excel(r'D:\\Mukesh Files\\New folder\\3.xlsx')\n",
    "df4 = pd.read_excel(r'D:\\Mukesh Files\\New folder\\4.xlsx')\n",
    "df5 = pd.read_excel(r'D:\\Mukesh Files\\New folder\\5.xlsx')\n",
    "df6 = pd.read_excel(r'D:\\Mukesh Files\\New folder\\6.xlsx')"
   ]
  },
  {
   "cell_type": "code",
   "execution_count": 28,
   "metadata": {},
   "outputs": [],
   "source": [
    "df_train = pd.concat([df00, df01, df02, df03, df04, df05, df1, df2, df3, df4, df5])"
   ]
  },
  {
   "cell_type": "code",
   "execution_count": 29,
   "metadata": {},
   "outputs": [],
   "source": [
    "df_train.to_excel(r'D:\\Mukesh Files\\New folder\\df_train.xlsx')"
   ]
  },
  {
   "cell_type": "code",
   "execution_count": 30,
   "metadata": {},
   "outputs": [],
   "source": [
    "df6 = pd.read_excel(r'D:\\Mukesh Files\\New folder\\6.xlsx')"
   ]
  },
  {
   "cell_type": "code",
   "execution_count": 31,
   "metadata": {},
   "outputs": [],
   "source": [
    "df_test = pd.concat([df6])"
   ]
  },
  {
   "cell_type": "code",
   "execution_count": 32,
   "metadata": {},
   "outputs": [],
   "source": [
    "df_test.to_excel(r'D:\\Mukesh Files\\New folder\\df_test.xlsx')"
   ]
  }
 ],
 "metadata": {
  "kernelspec": {
   "display_name": "Python 3.8.3 64-bit",
   "language": "python",
   "name": "python3"
  },
  "language_info": {
   "codemirror_mode": {
    "name": "ipython",
    "version": 3
   },
   "file_extension": ".py",
   "mimetype": "text/x-python",
   "name": "python",
   "nbconvert_exporter": "python",
   "pygments_lexer": "ipython3",
   "version": "3.8.3"
  },
  "orig_nbformat": 4,
  "vscode": {
   "interpreter": {
    "hash": "e450050b432e843bda3c41bf3272c133bfc370a7003f3e377e27f87a49ce1127"
   }
  }
 },
 "nbformat": 4,
 "nbformat_minor": 2
}
